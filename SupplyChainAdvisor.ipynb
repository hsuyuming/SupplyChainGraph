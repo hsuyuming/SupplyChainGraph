{
  "nbformat": 4,
  "nbformat_minor": 0,
  "metadata": {
    "colab": {
      "private_outputs": true,
      "provenance": []
    },
    "kernelspec": {
      "name": "python3",
      "display_name": "Python 3"
    },
    "language_info": {
      "name": "python"
    }
  },
  "cells": [
    {
      "cell_type": "markdown",
      "source": [
        "# Supply Chain Advisor\n",
        "\n",
        "<table align=\"left\" width=\"100%\">\n",
        "  <td>\n",
        "    <a href=\"https://colab.research.google.com/github/guruvittal/supplychaingraph/blob/main/SupplyChainAdvisor.ipynb\">\n",
        "      <img src=\"https://cloud.google.com/ml-engine/images/colab-logo-32px.png\" alt=\"Colab logo\"> Run in Colab\n",
        "    </a>\n",
        "  </td>\n",
        "  <td>\n",
        "    <a href=\"https://github.com/guruvittal/supplychaingraph/blob/main/SupplyChainAdvisor.ipynb\">\n",
        "      <img src=\"https://cloud.google.com/ml-engine/images/github-logo-32px.png\" alt=\"GitHub logo\">\n",
        "      View on GitHub\n",
        "    </a>\n",
        "  </td>\n",
        "  <td>\n",
        "    <a href=\"https://console.cloud.google.com/vertex-ai/workbench/deploy-notebook?download_url=https://raw.githubusercontent.com/guruvittal/supplychaingraph/blob/main/SupplyChainAdvisor.ipynb\">\n",
        "        <img src=\"https://lh3.googleusercontent.com/UiNooY4LUgW_oTvpsNhPpQzsstV5W8F7rYgxgGBD85cWJoLmrOzhVs_ksK_vgx40SHs7jCqkTkCk=e14-rj-sc0xffffff-h130-w32\" alt=\"Vertex AI logo\">\n",
        "      Open in Vertex AI Workbench\n",
        "    </a>\n",
        "  </td>\n",
        "</table>\n",
        "<br/><br/><br/>"
      ],
      "metadata": {
        "id": "Lmhu1eFsPx1d"
      }
    },
    {
      "cell_type": "markdown",
      "source": [
        "## Dependencies, Libraries & Authentication"
      ],
      "metadata": {
        "id": "BPI6nt1UAqBC"
      }
    },
    {
      "cell_type": "code",
      "source": [
        "#@title Install Dependencies\n",
        "packages = [\n",
        "    ('google.cloud.aiplatform', 'google-cloud-aiplatform'),\n",
        "    ('neo4j', 'neo4j'),\n",
        "    ('gradio','gradio'),\n",
        "    ('langchain-google-vertexai','langchain-google-vertexai'),\n",
        "    ('langchain','langchain'),\n",
        "    ('typing_extensions', 'typing_extensions')\n",
        "]\n",
        "\n",
        "import importlib\n",
        "install = False\n",
        "for package in packages:\n",
        "    if not importlib.util.find_spec(package[0]):\n",
        "        print(f'installing package {package[1]}')\n",
        "        install = True\n",
        "        !pip install {package[1]} -U --user\n",
        "\n"
      ],
      "metadata": {
        "id": "b0ajDeiIzq_8"
      },
      "execution_count": null,
      "outputs": []
    },
    {
      "cell_type": "code",
      "source": [
        "#@title Restart Kernel\n",
        "\n",
        "if install:\n",
        "    import IPython\n",
        "    app = IPython.Application.instance()\n",
        "    app.kernel.do_shutdown(True)"
      ],
      "metadata": {
        "id": "5sOeq3WL1Kj5"
      },
      "execution_count": null,
      "outputs": []
    },
    {
      "cell_type": "code",
      "source": [
        "#@title Import relevant libraries\n",
        "\n",
        "import os\n",
        "\n",
        "import gradio as gr\n",
        "from langchain.chains import GraphCypherQAChain\n",
        "from langchain.graphs import Neo4jGraph\n",
        "from langchain_google_vertexai import VertexAI\n",
        "from langchain.prompts.prompt import PromptTemplate\n",
        "\n",
        "\n",
        "from google.cloud import aiplatform\n",
        "print(f\"Vertex AI SDK version: {aiplatform.__version__}\")\n",
        "\n",
        "# Initialize Vertex AI SDK\n",
        "import vertexai"
      ],
      "metadata": {
        "id": "0fNasI_TbfEo"
      },
      "execution_count": null,
      "outputs": []
    },
    {
      "cell_type": "code",
      "source": [
        "#@title Setting up the Auth\n",
        "\n",
        "import sys\n",
        "\n",
        "if \"google.colab\" in sys.modules:\n",
        "    from google.colab import auth as google_auth\n",
        "    google_auth.authenticate_user()\n",
        "\n"
      ],
      "metadata": {
        "id": "TyIUgaIccLi1"
      },
      "execution_count": null,
      "outputs": []
    },
    {
      "cell_type": "markdown",
      "source": [
        "## Helper Functions"
      ],
      "metadata": {
        "id": "86tW8KaVAZaA"
      }
    },
    {
      "cell_type": "code",
      "source": [
        "#@title Helper Function to Run Query on Database\n",
        "\n",
        "import pandas as pd\n",
        "def run_query(query, params={}):\n",
        "    with driver.session() as session:\n",
        "        result = session.run(query, params)\n",
        "        return pd.DataFrame([r.values() for r in result], columns=result.keys())"
      ],
      "metadata": {
        "id": "Rzg6ZugvmzS6"
      },
      "execution_count": null,
      "outputs": []
    },
    {
      "cell_type": "code",
      "source": [
        "#@title Helper Function to Execute Cypher file\n",
        "import urllib.request\n",
        "def ExecuteCypher(CypherFile):\n",
        "  CommandFile = urllib.request.urlopen(CypherFile)\n",
        "  FileContent = CommandFile.read()\n",
        "  response = run_query(FileContent.decode())\n",
        "  return response"
      ],
      "metadata": {
        "id": "BrPymDCB6wgR"
      },
      "execution_count": null,
      "outputs": []
    },
    {
      "cell_type": "code",
      "source": [
        "#@title Setup Database (Graph)\n",
        "\n",
        "from neo4j import GraphDatabase\n",
        "from google.colab import userdata\n",
        "\n",
        "\n",
        "# You will need to change these variables\n",
        "connectionUrl = userdata.get(\"neo4jurl\") #@param\n",
        "username = userdata.get('neo4jusername') #@param\n",
        "password = userdata.get('neo4jpassword') #@param"
      ],
      "metadata": {
        "id": "pjZ5wfnUUB92"
      },
      "execution_count": null,
      "outputs": []
    },
    {
      "cell_type": "code",
      "source": [
        "#@title Verify Database Connectivity\n",
        "\n",
        "driver = GraphDatabase.driver(connectionUrl, auth=(username, password))\n",
        "driver.verify_connectivity()"
      ],
      "metadata": {
        "id": "ai-j1lErmqgA"
      },
      "execution_count": null,
      "outputs": []
    },
    {
      "cell_type": "code",
      "source": [
        "#@title Quick Test on the LLM\n",
        "\n",
        "vertexai.init(project=\"argolis-project-340214\")\n",
        "# %%\n",
        "\n",
        "llm = VertexAI(model_name = \"gemini-pro\", temperature=1, max_output_tokens=8192)\n",
        "print(llm.invoke(\"What is the future of supply chain in an LLM world?\"))\n",
        "\n"
      ],
      "metadata": {
        "id": "q_apM8o9b-__"
      },
      "execution_count": null,
      "outputs": []
    },
    {
      "cell_type": "markdown",
      "source": [
        "# Build your Supply Chain Model"
      ],
      "metadata": {
        "id": "5Hx_BlVbdkNY"
      }
    },
    {
      "cell_type": "code",
      "source": [
        "#@title Clean up the database\n",
        "\n",
        "ExecuteCypher(\"https://raw.githubusercontent.com/guruvittal/SupplyChainGraph/main/dropDatabase.cyp\")\n"
      ],
      "metadata": {
        "id": "KR7AImCP1T8W"
      },
      "execution_count": null,
      "outputs": []
    },
    {
      "cell_type": "code",
      "source": [
        "#@title Create Locations\n",
        "\n",
        "ExecuteCypher(\"https://raw.githubusercontent.com/guruvittal/SupplyChainGraph/main/createLocations.cyp\")\n"
      ],
      "metadata": {
        "id": "1Gkg8NZOMzXF"
      },
      "execution_count": null,
      "outputs": []
    },
    {
      "cell_type": "code",
      "source": [
        "#@title Create Items\n",
        "\n",
        "ExecuteCypher(\"https://raw.githubusercontent.com/guruvittal/SupplyChainGraph/main/createItems.cyp\")\n"
      ],
      "metadata": {
        "id": "pACqjSGx15jO"
      },
      "execution_count": null,
      "outputs": []
    },
    {
      "cell_type": "code",
      "source": [
        "#@title Create Item Location\n",
        "\n",
        "ExecuteCypher(\"https://raw.githubusercontent.com/guruvittal/SupplyChainGraph/main/createItemLocation.cyp\")\n"
      ],
      "metadata": {
        "id": "xbmFp8LC_hok"
      },
      "execution_count": null,
      "outputs": []
    },
    {
      "cell_type": "code",
      "source": [
        "#@title Create MADE_AT\n",
        "\n",
        "ExecuteCypher(\"https://raw.githubusercontent.com/guruvittal/SupplyChainGraph/main/createMadeAt.cyp\")\n"
      ],
      "metadata": {
        "id": "lKYFK7pnCrrj"
      },
      "execution_count": null,
      "outputs": []
    },
    {
      "cell_type": "code",
      "source": [
        "#@title Create MAKES\n",
        "\n",
        "ExecuteCypher(\"https://raw.githubusercontent.com/guruvittal/SupplyChainGraph/main/createMakes.cyp\")"
      ],
      "metadata": {
        "id": "Xhp7Bxr4SrLd"
      },
      "execution_count": null,
      "outputs": []
    },
    {
      "cell_type": "code",
      "source": [
        "#@title Create CONTAINS\n",
        "\n",
        "ExecuteCypher(\"https://raw.githubusercontent.com/guruvittal/SupplyChainGraph/main/createContains.cyp\")\n"
      ],
      "metadata": {
        "id": "3B5c6Ly-DYZ_"
      },
      "execution_count": null,
      "outputs": []
    },
    {
      "cell_type": "code",
      "source": [
        "#@title Set Forecasts\n",
        "\n",
        "ExecuteCypher(\"https://raw.githubusercontent.com/guruvittal/SupplyChainGraph/main/setForecasts.cyp\")\n"
      ],
      "metadata": {
        "id": "YMrlHEqfQvd-"
      },
      "execution_count": null,
      "outputs": []
    },
    {
      "cell_type": "code",
      "source": [
        "#@title Generate Supply Plan\n",
        "\n",
        "ExecuteCypher(\"https://raw.githubusercontent.com/guruvittal/SupplyChainGraph/main/generateSupplyPlan.cyp\")"
      ],
      "metadata": {
        "id": "x7JCWUuTKKyB"
      },
      "execution_count": null,
      "outputs": []
    },
    {
      "cell_type": "markdown",
      "source": [
        "## Run Sample Queries"
      ],
      "metadata": {
        "id": "gqRG7wETUyMF"
      }
    },
    {
      "cell_type": "code",
      "source": [
        "run_query(\"match (n:Location) return n.locationKey, n.address\")"
      ],
      "metadata": {
        "id": "RkXWa23Um0tj"
      },
      "execution_count": null,
      "outputs": []
    },
    {
      "cell_type": "code",
      "source": [
        "run_query(\"match (n) return labels(n) as label, properties(n) as properties\")"
      ],
      "metadata": {
        "id": "tlD1ioPdPOFU"
      },
      "execution_count": null,
      "outputs": []
    },
    {
      "cell_type": "code",
      "source": [
        "graph = Neo4jGraph(\n",
        "    url=connectionUrl, username=username, password=password\n",
        ")"
      ],
      "metadata": {
        "id": "Wh54FtfEezOm"
      },
      "execution_count": null,
      "outputs": []
    },
    {
      "cell_type": "code",
      "source": [
        "chain = GraphCypherQAChain.from_llm(\n",
        "    llm, graph=graph, verbose=True\n",
        ")"
      ],
      "metadata": {
        "id": "vX3toBfc9e6I"
      },
      "execution_count": null,
      "outputs": []
    },
    {
      "cell_type": "markdown",
      "source": [
        "# Build Text to Cypher templates"
      ],
      "metadata": {
        "id": "TjV4tVoCU781"
      }
    },
    {
      "cell_type": "code",
      "source": [
        "from langchain_google_vertexai import ChatVertexAI\n",
        "\n",
        "CYPHER_GENERATION_TEMPLATE = \"\"\"Task:Generate Cypher statement to query a graph database.\n",
        "Instructions:\n",
        "Use only the provided relationship types and properties in the schema.\n",
        "Do not use any other relationship types or properties that are not provided.\n",
        "Schema:\n",
        "{schema}\n",
        "Note: Do not include any explanations or apologies in your responses.\n",
        "Do not respond to any questions that might ask anything else than for you to construct a Cypher statement.\n",
        "Do not include any text except the generated Cypher statement.\n",
        "Examples: Here are a few examples of generated Cypher statements for particular questions:\n",
        "\n",
        "# Hello bot\n",
        "MATCH (il:ItemLocation)\n",
        "return \"No. of ItemLocation nodes in this model: \", count(*),\" - Welcome.\"\n",
        "\n",
        "# What are all the parent items and where are they produced?\n",
        "MATCH (il:ItemLocation)-[:CONTAINS]->(:ItemLocation) where NOT (:ItemLocation)-[:CONTAINS]->(il)\n",
        "MATCH (il)-[:MADE_AT]-(l:Location)\n",
        "RETURN distinct il.itemNumber AS parentItem, l.locationDescription AS productionLocation\n",
        "\n",
        "# What products does the Seattle supplier make?\n",
        "MATCH (il)-[:MADE_AT]-(l:Location)\n",
        "WHERE l.locationDescription contains 'Seattle'\n",
        "RETURN il.itemNumber\n",
        "\n",
        "# Machine plants in WV\n",
        "MATCH (l:Location)-[:MAKES]->(i:Item)\n",
        "WHERE l.address contains 'KY' and l.locationType contains 'PLT' and i.itemDescription contains 'Machine'\n",
        "RETURN l.locationId + ' is a plant and is in' + l.address + ' and it makes:' + i.itemDescription\n",
        "\n",
        "# Suppliers in MA\n",
        "MATCH (l:Location)\n",
        "WHERE l.address contains 'MA' and l.locationType contains 'SUP'\n",
        "RETURN l.locationId + 'supplier is in' + l.address\n",
        "\n",
        "\n",
        "# Name all suppliers for Transmission?\n",
        "MATCH (il)-[:MADE_AT]->(l:Location)\n",
        "WHERE il.itemNumber contains 'Transmission'\n",
        "RETURN l.locationDescription\n",
        "\n",
        "# What is the forecast for Machine in WV plant in month 2\n",
        "MATCH (a:ItemLocation)-[r:HAS_FORECAST_IN]->(m:Month)\n",
        "WHERE m.monthKey = \"2\" and a.itemLocationDescription contains 'WV' and a.locationType = 'PLT' and a.itemLocationDescription contains 'Machine'\n",
        "RETURN a.itemLocationDescription,  r.forecast\n",
        "\n",
        "# What is the forecast for Engine for supplier Cummins in month 8\n",
        "MATCH (j:ItemLocation)-[q:HAS_FORECAST_IN]->(m:Month)\n",
        "WHERE m.monthKey = \"8\" and j.itemLocationDescription contains 'Cummins' and j.locationType = 'SUP' and j.itemLocationDescription contains 'Engine'\n",
        "RETURN j.itemLocationDescription,  q.forecast\n",
        "\n",
        "# Name all suppliers for Engines?\n",
        "MATCH (il)-[:MADE_AT]->(l:Location)\n",
        "WHERE il.itemNumber contains 'Engine'\n",
        "RETURN l.locationDescription\n",
        "\n",
        "# Name all the suppliers for the WV plant\n",
        "MATCH (plant:Location)<-[:MADE_AT]-(parentItemLocation:ItemLocation)-[:CONTAINS]->(childItemLocation:ItemLocation)-[:MADE_AT]->(supp:Location)\n",
        "WHERE plant.locationDescription contains 'WV'\n",
        "RETURN supp.locationId\n",
        "\n",
        "# Name all the suppliers of Engines for the WV plant\n",
        "MATCH (parentItemLocation:ItemLocation)-[:CONTAINS]->(childItemLocation:ItemLocation)-[:MADE_AT]->(supp:Location)\n",
        "WHERE parentItemLocation.itemLocationDescription contains 'WV' and parentItemLocation.locationType contains 'PLT' and childItemLocation.itemNumber contains 'Engine' and supp.locationType contains 'SUP'\n",
        "RETURN  supp.locationId + ' is a supplier and is in:' + supp.address + ' supplying to: ' + parentItemLocation.itemLocationDescription\n",
        "\n",
        "The question is:\n",
        "{question}\"\"\"\n",
        "\n",
        "\n",
        "CYPHER_GENERATION_PROMPT = PromptTemplate(\n",
        "    input_variables=[\"schema\", \"question\"], template=CYPHER_GENERATION_TEMPLATE\n",
        ")\n",
        "\n",
        "chain = GraphCypherQAChain.from_llm(\n",
        "    ChatVertexAI(temperature=0), graph=graph, verbose=True, cypher_prompt=CYPHER_GENERATION_PROMPT\n",
        ")"
      ],
      "metadata": {
        "id": "VCctvmbmJcZO"
      },
      "execution_count": null,
      "outputs": []
    },
    {
      "cell_type": "code",
      "source": [
        "chain.invoke(\"What are all the parent items and where are they produced?\")"
      ],
      "metadata": {
        "id": "0pjqHbl19s60"
      },
      "execution_count": null,
      "outputs": []
    },
    {
      "cell_type": "code",
      "source": [
        "chain.run(\"What all locations are there?\")"
      ],
      "metadata": {
        "id": "IUacCnkKIHsj"
      },
      "execution_count": null,
      "outputs": []
    },
    {
      "cell_type": "code",
      "source": [
        "chain.run(\"What all itemlocations are there for the itemgoverning system SAP2 and print the list of item Location Descriptions?\")"
      ],
      "metadata": {
        "id": "rKGy981V_Ytj"
      },
      "execution_count": null,
      "outputs": []
    },
    {
      "cell_type": "code",
      "source": [
        "chain.run(\"What all top level items are being produced and where\")"
      ],
      "metadata": {
        "id": "ebzBx7qgAjuF"
      },
      "execution_count": null,
      "outputs": []
    },
    {
      "cell_type": "code",
      "source": [
        "chain.run(\"What item does the Seattle supplier make\")"
      ],
      "metadata": {
        "id": "GygJIFm2Xz8g"
      },
      "execution_count": null,
      "outputs": []
    },
    {
      "cell_type": "code",
      "source": [
        "chain.run(\"Name all the suppliers of Engine for WV plant?\")"
      ],
      "metadata": {
        "id": "i3OHquNLuoCH"
      },
      "execution_count": null,
      "outputs": []
    },
    {
      "cell_type": "markdown",
      "source": [
        "# Build the Bot UI"
      ],
      "metadata": {
        "id": "bs1brVxVVbb7"
      }
    },
    {
      "cell_type": "code",
      "source": [
        "\n",
        "def chatbot(inputtext):\n",
        "    return chain.run(inputtext)\n",
        "\n",
        "\n",
        "iface = gr.Interface(fn=chatbot,\n",
        "                      examples=[\n",
        "                               \"Name all the suppliers for the WV plant\",\n",
        "                               \"Name all machine plants in KY\",\n",
        "                               \"Name all suppliers in KY\",\n",
        "                               \"Name all the suppliers for Engines\",\n",
        "                               \"Name all the suppliers of Engines for the WV plant\",\n",
        "                               \"What all top level items are being produced and where\",\n",
        "                               \"What is the forecast of machine in WV for month 6\",\n",
        "                               \"What is the forecast for Engine for supplier Cummins in month 8\"\n",
        "                               ],\n",
        "                      title=\"Automotive Supply Chain Analyst\",\n",
        "                      inputs=gr.Textbox(),\n",
        "                      outputs=[gr.Textbox()])\n",
        "\n",
        "iface.launch(debug=True)\n",
        "\n"
      ],
      "metadata": {
        "id": "bLMDzKMw5NOw"
      },
      "execution_count": null,
      "outputs": []
    }
  ]
}